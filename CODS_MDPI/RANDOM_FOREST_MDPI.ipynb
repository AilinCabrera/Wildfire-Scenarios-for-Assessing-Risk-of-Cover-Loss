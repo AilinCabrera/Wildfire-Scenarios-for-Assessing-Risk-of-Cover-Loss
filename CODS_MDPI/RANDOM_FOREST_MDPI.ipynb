{
 "cells": [
  {
   "cell_type": "code",
   "execution_count": 1,
   "id": "33473043",
   "metadata": {},
   "outputs": [],
   "source": [
    "import numpy as np\n",
    "import xarray as xr\n",
    "import pandas as pd\n",
    "import joblib\n",
    "\n",
    "from matplotlib import pylab as plt\n",
    "from sklearn.preprocessing import MinMaxScaler\n",
    "from sklearn.metrics import accuracy_score\n",
    "from sklearn.ensemble import RandomForestRegressor"
   ]
  },
  {
   "cell_type": "code",
   "execution_count": 4,
   "id": "99921761",
   "metadata": {},
   "outputs": [],
   "source": [
    "nc_org     = xr.open_dataset('DATA_DAY/2m_temperature.nc')-273.15\n",
    "nc_tem     = xr.open_dataset('DATA_TEM_MOD/t2m_mod.nc')-273.15\n",
    "nc_rad     = xr.open_dataset('DATA_DAY/surface_solar_radiation_downwars.nc')/3600\n",
    "nc_soiltem = xr.open_dataset('DATA_DAY/soil_temperature_level_1.nc')-273.15\n",
    "nc_pre     = xr.open_dataset('DATA_DAY/total_precipitation.nc')*1000\n",
    "nc_dew     = xr.open_dataset('DATA_DAY/2m_dewpoint_temperature.nc')-273.15\n",
    "nc_uwind   = xr.open_dataset('DATA_DAY/10m_u_component_of_wind.nc')\n",
    "nc_vwind   = xr.open_dataset('DATA_DAY/10m_v_component_of_wind.nc')\n",
    "nc_leafhigh= xr.open_dataset('DATA_DAY/leaf_area_index_high_vegetation.nc')\n",
    "nc_leaflow = xr.open_dataset('DATA_DAY/leaf_area_index_low_vegetation.nc')\n",
    "nc_skin    = xr.open_dataset('DATA_DAY/skin_reservoir_content.nc')\n",
    "nc_vol     = xr.open_dataset('DATA_DAY/volumetric_soil_water_layer_1.nc')\n",
    "nc_eva     = xr.open_dataset('DATA_DAY/evaporation.nc')*(-1000)\n",
    "\n",
    "\n",
    "nc_BUI  = xr.open_dataset('../../FWI/RESULTADOS_FWI10_NC/BUI.nc')\n",
    "nc_DC   = xr.open_dataset('../../FWI/RESULTADOS_FWI10_NC/DC.nc')\n",
    "nc_DMC  = xr.open_dataset('../../FWI/RESULTADOS_FWI10_NC//DMC.nc')\n",
    "nc_DSR  = xr.open_dataset('../../FWI/RESULTADOS_FWI10_NC/DSR.nc')\n",
    "nc_FFMC = xr.open_dataset('../../FWI/RESULTADOS_FWI10_NC/FFMC.nc')\n",
    "nc_FWI  = xr.open_dataset('../../FWI/RESULTADOS_FWI10_NC/FWI.nc')\n",
    "nc_ISI  = xr.open_dataset('../../FWI/RESULTADOS_FWI10_NC/ISI.nc')\n",
    "nc_M    = xr.open_dataset('../../FWI/RESULTADOS_FWI10_NC/M.nc')\n",
    "nc_WIND = xr.open_dataset('../../FWI/RESULTADOS_FWI10_NC/WIND.nc')\n",
    "\n",
    "nc_org = nc_org.rename({'t2m': 't2m_org'})\n",
    "\n",
    "tem      = nc_tem.t2m.assign_coords(strftime = nc_tem.t2m.strftime.values.astype('datetime64[ns]'))  #DESACTIVAR con datos modificados en tiempo o long\n",
    "pre      = nc_pre.tp.assign_coords(strftime = nc_pre.tp.strftime.values.astype('datetime64[ns]'))\n",
    "rad      = nc_rad.ssrd.assign_coords(strftime = nc_rad.ssrd.strftime.values.astype('datetime64[ns]'))\n",
    "soiltem  = nc_soiltem.stl1.assign_coords(strftime = nc_soiltem.stl1.strftime.values.astype('datetime64[ns]'))     \n",
    "dew      = nc_dew.d2m.assign_coords(strftime = nc_dew.d2m.strftime.values.astype('datetime64[ns]'))    \n",
    "uwind    = nc_uwind.u10.assign_coords(strftime = nc_uwind.u10.strftime.values.astype('datetime64[ns]'))   \n",
    "vwind    = nc_vwind.v10.assign_coords(strftime = nc_vwind.v10.strftime.values.astype('datetime64[ns]'))  \n",
    "leafhigh = nc_leafhigh.lai_hv.assign_coords(strftime = nc_leafhigh.lai_hv.strftime.values.astype('datetime64[ns]'))\n",
    "leaflow  = nc_leaflow.lai_lv.assign_coords(strftime = nc_leaflow.lai_lv.strftime.values.astype('datetime64[ns]'))\n",
    "skin     = nc_skin.src.assign_coords(strftime = nc_skin.src.strftime.values.astype('datetime64[ns]'))\n",
    "vol      = nc_vol.swvl1.assign_coords(strftime = nc_vol.swvl1.strftime.values.astype('datetime64[ns]'))\n",
    "eva      = nc_eva.e.assign_coords(strftime = nc_eva.e.strftime.values.astype('datetime64[ns]'))\n",
    "\n",
    "nc_BUI  = nc_BUI.BUI.rename({'time':'strftime'}) \n",
    "nc_DC   = nc_DC.DC.rename({'time':'strftime'}) \n",
    "nc_DMC  = nc_DMC.DCM.rename({'time':'strftime'})\n",
    "nc_DSR  = nc_DSR.DSR.rename({'time':'strftime'})\n",
    "nc_FFMC = nc_FFMC.FFMC.rename({'time':'strftime'})\n",
    "nc_FWI  = nc_FWI.FWI.rename({'time':'strftime'})\n",
    "nc_ISI  = nc_ISI.ISI.rename({'time':'strftime'})\n",
    "nc_M    = nc_M.M.rename({'time':'strftime'})\n",
    "nc_WIND = nc_WIND.WIND.rename({'time':'strftime'})\n",
    "\n",
    "BUI  = nc_BUI.assign_coords(strftime = nc_BUI.strftime.values.astype('datetime64[ns]'))  \n",
    "DC   = nc_DC.assign_coords(strftime = nc_DC.strftime.values.astype('datetime64[ns]'))  \n",
    "DMC  = nc_DMC.assign_coords(strftime = nc_DMC.strftime.values.astype('datetime64[ns]'))  \n",
    "DSR  = nc_DSR.assign_coords(strftime = nc_DSR.strftime.values.astype('datetime64[ns]'))  \n",
    "FFMC = nc_FFMC.assign_coords(strftime = nc_FFMC.strftime.values.astype('datetime64[ns]')) \n",
    "FWI  = nc_FWI.assign_coords(strftime = nc_FWI.strftime.values.astype('datetime64[ns]')) \n",
    "ISI  = nc_ISI.assign_coords(strftime = nc_ISI.strftime.values.astype('datetime64[ns]'))  \n",
    "M    = nc_M.assign_coords(strftime = nc_M.strftime.values.astype('datetime64[ns]')) \n",
    "WIND = nc_WIND.assign_coords(strftime = nc_WIND.strftime.values.astype('datetime64[ns]'))\n"
   ]
  },
  {
   "cell_type": "code",
   "execution_count": 5,
   "id": "d4525e59",
   "metadata": {},
   "outputs": [],
   "source": [
    "T2 = nc_tem.copy(deep = True)\n",
    "contar = int(len(T2.strftime)*0.8)\n",
    "\n",
    "pre_train       = pre[:contar,:,:].to_dataframe()\n",
    "eva_train       = eva[:contar,:,:].to_dataframe()\n",
    "rad_train       = rad[:contar,:,:].to_dataframe()\n",
    "soiltem_train   = soiltem[:contar,:,:].to_dataframe()\n",
    "leafhigh_train  = leafhigh[:contar,:,:].to_dataframe()\n",
    "skin_train      = skin[:contar,:,:].to_dataframe()\n",
    "tem_train       = tem[:contar,:,:].to_dataframe()\n",
    "DMC_train       = DMC[:contar,:,:].to_dataframe()\n",
    "DSR_train       = DSR[:contar,:,:].to_dataframe()\n",
    "WIND_train      = WIND[:contar,:,:].to_dataframe()\n",
    "\n",
    "\n",
    "pre_test      = pre[contar:,:,:].to_dataframe()\n",
    "eva_test      = eva[contar:,:,:].to_dataframe()\n",
    "rad_test      = rad[contar:,:,:].to_dataframe()\n",
    "soiltem_test  = soiltem[contar:,:,:].to_dataframe()\n",
    "leafhigh_test = leafhigh[contar:,:,:].to_dataframe()\n",
    "skin_test     = skin[contar:,:,:].to_dataframe()\n",
    "tem_test      = tem[contar:,:,:].to_dataframe()\n",
    "DMC_test      = DMC[contar:,:,:].to_dataframe()\n",
    "DSR_test      = DSR[contar:,:,:].to_dataframe()\n",
    "WIND_test     = WIND[contar:,:,:].to_dataframe()"
   ]
  },
  {
   "cell_type": "code",
   "execution_count": 17,
   "id": "3a2c99bf",
   "metadata": {},
   "outputs": [],
   "source": [
    "data_train = pd.concat([pre_train, eva_train,rad_train,soiltem_train,leafhigh_train,skin_train,DMC_train,DSR_train,WIND_train,tem_train],axis = 1)\n",
    "data_test = pd.concat([pre_test, eva_test,rad_test,soiltem_test,leafhigh_test,skin_test,DMC_test,DSR_test,WIND_test,tem_test],axis = 1)\n",
    "\n",
    "x_train = data_train.iloc[:,:-1]\n",
    "y_train = data_train.iloc[:,-1:]\n",
    "\n",
    "x_test = data_test.iloc[:,:-1]\n",
    "y_test = data_test.iloc[:,-1:]"
   ]
  },
  {
   "cell_type": "code",
   "execution_count": 216,
   "id": "4ae6a48a",
   "metadata": {},
   "outputs": [
    {
     "data": {
      "text/html": [
       "<style>#sk-container-id-2 {color: black;background-color: white;}#sk-container-id-2 pre{padding: 0;}#sk-container-id-2 div.sk-toggleable {background-color: white;}#sk-container-id-2 label.sk-toggleable__label {cursor: pointer;display: block;width: 100%;margin-bottom: 0;padding: 0.3em;box-sizing: border-box;text-align: center;}#sk-container-id-2 label.sk-toggleable__label-arrow:before {content: \"▸\";float: left;margin-right: 0.25em;color: #696969;}#sk-container-id-2 label.sk-toggleable__label-arrow:hover:before {color: black;}#sk-container-id-2 div.sk-estimator:hover label.sk-toggleable__label-arrow:before {color: black;}#sk-container-id-2 div.sk-toggleable__content {max-height: 0;max-width: 0;overflow: hidden;text-align: left;background-color: #f0f8ff;}#sk-container-id-2 div.sk-toggleable__content pre {margin: 0.2em;color: black;border-radius: 0.25em;background-color: #f0f8ff;}#sk-container-id-2 input.sk-toggleable__control:checked~div.sk-toggleable__content {max-height: 200px;max-width: 100%;overflow: auto;}#sk-container-id-2 input.sk-toggleable__control:checked~label.sk-toggleable__label-arrow:before {content: \"▾\";}#sk-container-id-2 div.sk-estimator input.sk-toggleable__control:checked~label.sk-toggleable__label {background-color: #d4ebff;}#sk-container-id-2 div.sk-label input.sk-toggleable__control:checked~label.sk-toggleable__label {background-color: #d4ebff;}#sk-container-id-2 input.sk-hidden--visually {border: 0;clip: rect(1px 1px 1px 1px);clip: rect(1px, 1px, 1px, 1px);height: 1px;margin: -1px;overflow: hidden;padding: 0;position: absolute;width: 1px;}#sk-container-id-2 div.sk-estimator {font-family: monospace;background-color: #f0f8ff;border: 1px dotted black;border-radius: 0.25em;box-sizing: border-box;margin-bottom: 0.5em;}#sk-container-id-2 div.sk-estimator:hover {background-color: #d4ebff;}#sk-container-id-2 div.sk-parallel-item::after {content: \"\";width: 100%;border-bottom: 1px solid gray;flex-grow: 1;}#sk-container-id-2 div.sk-label:hover label.sk-toggleable__label {background-color: #d4ebff;}#sk-container-id-2 div.sk-serial::before {content: \"\";position: absolute;border-left: 1px solid gray;box-sizing: border-box;top: 0;bottom: 0;left: 50%;z-index: 0;}#sk-container-id-2 div.sk-serial {display: flex;flex-direction: column;align-items: center;background-color: white;padding-right: 0.2em;padding-left: 0.2em;position: relative;}#sk-container-id-2 div.sk-item {position: relative;z-index: 1;}#sk-container-id-2 div.sk-parallel {display: flex;align-items: stretch;justify-content: center;background-color: white;position: relative;}#sk-container-id-2 div.sk-item::before, #sk-container-id-2 div.sk-parallel-item::before {content: \"\";position: absolute;border-left: 1px solid gray;box-sizing: border-box;top: 0;bottom: 0;left: 50%;z-index: -1;}#sk-container-id-2 div.sk-parallel-item {display: flex;flex-direction: column;z-index: 1;position: relative;background-color: white;}#sk-container-id-2 div.sk-parallel-item:first-child::after {align-self: flex-end;width: 50%;}#sk-container-id-2 div.sk-parallel-item:last-child::after {align-self: flex-start;width: 50%;}#sk-container-id-2 div.sk-parallel-item:only-child::after {width: 0;}#sk-container-id-2 div.sk-dashed-wrapped {border: 1px dashed gray;margin: 0 0.4em 0.5em 0.4em;box-sizing: border-box;padding-bottom: 0.4em;background-color: white;}#sk-container-id-2 div.sk-label label {font-family: monospace;font-weight: bold;display: inline-block;line-height: 1.2em;}#sk-container-id-2 div.sk-label-container {text-align: center;}#sk-container-id-2 div.sk-container {/* jupyter's `normalize.less` sets `[hidden] { display: none; }` but bootstrap.min.css set `[hidden] { display: none !important; }` so we also need the `!important` here to be able to override the default hidden behavior on the sphinx rendered scikit-learn.org. See: https://github.com/scikit-learn/scikit-learn/issues/21755 */display: inline-block !important;position: relative;}#sk-container-id-2 div.sk-text-repr-fallback {display: none;}</style><div id=\"sk-container-id-2\" class=\"sk-top-container\"><div class=\"sk-text-repr-fallback\"><pre>RandomForestRegressor()</pre><b>In a Jupyter environment, please rerun this cell to show the HTML representation or trust the notebook. <br />On GitHub, the HTML representation is unable to render, please try loading this page with nbviewer.org.</b></div><div class=\"sk-container\" hidden><div class=\"sk-item\"><div class=\"sk-estimator sk-toggleable\"><input class=\"sk-toggleable__control sk-hidden--visually\" id=\"sk-estimator-id-2\" type=\"checkbox\" checked><label for=\"sk-estimator-id-2\" class=\"sk-toggleable__label sk-toggleable__label-arrow\">RandomForestRegressor</label><div class=\"sk-toggleable__content\"><pre>RandomForestRegressor()</pre></div></div></div></div></div>"
      ],
      "text/plain": [
       "RandomForestRegressor()"
      ]
     },
     "execution_count": 216,
     "metadata": {},
     "output_type": "execute_result"
    }
   ],
   "source": [
    "regr = RandomForestRegressor(n_estimators=100,criterion='squared_error')\n",
    "regr.fit(x_train, y_train.values.ravel())"
   ]
  },
  {
   "cell_type": "code",
   "execution_count": 281,
   "id": "95312add",
   "metadata": {},
   "outputs": [
    {
     "data": {
      "text/plain": [
       "['random_forest.joblib']"
      ]
     },
     "execution_count": 281,
     "metadata": {},
     "output_type": "execute_result"
    }
   ],
   "source": [
    "# save\n",
    "#joblib.dump(regr, \"random_forest.joblib\")"
   ]
  },
  {
   "cell_type": "code",
   "execution_count": 18,
   "id": "9a607190",
   "metadata": {},
   "outputs": [],
   "source": [
    "loaded_rf = joblib.load(\"random_forest.joblib\")\n",
    "rf_load = loaded_rf.predict(x_test)"
   ]
  },
  {
   "cell_type": "code",
   "execution_count": 19,
   "id": "2748c5de",
   "metadata": {},
   "outputs": [],
   "source": [
    "prediccion = loaded_rf.predict(x_test)"
   ]
  }
 ],
 "metadata": {
  "kernelspec": {
   "display_name": "Python 3 (ipykernel)",
   "language": "python",
   "name": "python3"
  },
  "language_info": {
   "codemirror_mode": {
    "name": "ipython",
    "version": 3
   },
   "file_extension": ".py",
   "mimetype": "text/x-python",
   "name": "python",
   "nbconvert_exporter": "python",
   "pygments_lexer": "ipython3",
   "version": "3.9.18"
  }
 },
 "nbformat": 4,
 "nbformat_minor": 5
}
